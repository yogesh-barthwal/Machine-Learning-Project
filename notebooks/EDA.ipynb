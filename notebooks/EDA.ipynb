{
 "cells": [
  {
   "cell_type": "markdown",
   "id": "6a72c610",
   "metadata": {},
   "source": [
    "### Objective- To predict the quality of wine on a scale of 1-10 (bad----good)"
   ]
  },
  {
   "cell_type": "code",
   "execution_count": null,
   "id": "7b1e67ef",
   "metadata": {},
   "outputs": [],
   "source": [
    "# Importing the basic libraries\n",
    "    # For Data Analysis\n",
    "import numpy as np\n",
    "import pandas as pd\n",
    "import matplotlib.pyplot as plt\n",
    "import seaborn as sns\n",
    "import warnings\n",
    "warnings.filterwarnings('ignore')"
   ]
  },
  {
   "cell_type": "code",
   "execution_count": null,
   "id": "2c7bf055",
   "metadata": {},
   "outputs": [],
   "source": [
    "df= pd.read_csv(r\"Y:\\Data\\Projects\\Machine Learning Project\\notebooks\\data\\QualityPrediction.csv\")"
   ]
  },
  {
   "cell_type": "code",
   "execution_count": null,
   "id": "cfe2b129",
   "metadata": {},
   "outputs": [],
   "source": [
    "df.head(5)"
   ]
  },
  {
   "cell_type": "code",
   "execution_count": null,
   "id": "b6938c85",
   "metadata": {},
   "outputs": [],
   "source": [
    "df.info()"
   ]
  },
  {
   "cell_type": "markdown",
   "id": "6639345f",
   "metadata": {},
   "source": [
    "#### Observations-\n",
    "All the variables are numerical in nature"
   ]
  },
  {
   "cell_type": "code",
   "execution_count": null,
   "id": "d3ad6605",
   "metadata": {},
   "outputs": [],
   "source": [
    "df.describe()"
   ]
  },
  {
   "cell_type": "markdown",
   "id": "2759a755",
   "metadata": {},
   "source": [
    "The mean and median values for features volatile acidity, density and pH  are quite close to each other. This hints towards them being normally distributed"
   ]
  },
  {
   "cell_type": "markdown",
   "id": "52eee53a",
   "metadata": {},
   "source": [
    "Checking for duplicate values\n",
    "\n",
    "- Duplicate observations will not provide any additional information to the model and hence should be dropped\n",
    "- Further, when the dataset will be split into training and test dataset, exactly same observation values may end up being in both. This may result in overfitting"
   ]
  },
  {
   "cell_type": "code",
   "execution_count": null,
   "id": "61d03291",
   "metadata": {},
   "outputs": [],
   "source": [
    "print(df.duplicated().sum())"
   ]
  },
  {
   "cell_type": "markdown",
   "id": "67be2675",
   "metadata": {},
   "source": [
    "There are a total of 240 duplicate entries"
   ]
  },
  {
   "cell_type": "code",
   "execution_count": null,
   "id": "28459745",
   "metadata": {},
   "outputs": [],
   "source": [
    "df[df.duplicated()]"
   ]
  },
  {
   "cell_type": "markdown",
   "id": "358cd27d",
   "metadata": {},
   "source": [
    "Removing the duplicate entries"
   ]
  },
  {
   "cell_type": "code",
   "execution_count": null,
   "id": "d2d8a7dc",
   "metadata": {},
   "outputs": [],
   "source": [
    "df.drop_duplicates(keep='first', inplace = True)"
   ]
  },
  {
   "cell_type": "code",
   "execution_count": null,
   "id": "cec69c08",
   "metadata": {},
   "outputs": [],
   "source": [
    "df.shape"
   ]
  },
  {
   "cell_type": "markdown",
   "id": "ef74d468",
   "metadata": {},
   "source": [
    "Now there are a total of 1359 observations and 12 columns (12 features and 1 target variable)"
   ]
  },
  {
   "cell_type": "code",
   "execution_count": null,
   "id": "a592c22f",
   "metadata": {},
   "outputs": [],
   "source": [
    "df.reset_index(drop=True, inplace=True ) # drop = True to avoid creating a new column"
   ]
  },
  {
   "cell_type": "code",
   "execution_count": null,
   "id": "9c268243",
   "metadata": {},
   "outputs": [],
   "source": [
    "df.head()"
   ]
  },
  {
   "cell_type": "code",
   "execution_count": null,
   "id": "641ca2d4",
   "metadata": {},
   "outputs": [],
   "source": [
    "df.columns"
   ]
  },
  {
   "cell_type": "markdown",
   "id": "b3e3267c",
   "metadata": {},
   "source": [
    "### Univariate Analysis"
   ]
  },
  {
   "cell_type": "markdown",
   "id": "e3299b32",
   "metadata": {},
   "source": [
    "#### Plotting histograms and checking for skewness values"
   ]
  },
  {
   "cell_type": "code",
   "execution_count": null,
   "id": "92d7d006",
   "metadata": {},
   "outputs": [],
   "source": [
    "plt.subplots(3,4,figsize=(25,18))\n",
    "for i,feature in enumerate(df.columns):\n",
    "    if i== len(df.columns)-1: # To avoid plotiing the Target Variable\n",
    "        pass\n",
    "    else:\n",
    "        plt.subplot(3,4,i+1)\n",
    "        sns.histplot(data=df, x=feature, kde=True)\n",
    "        plt.title(feature)\n",
    "        #print(i,feature)\n",
    "        print(f'skewness of feature \"{feature}\" is {df[feature].skew()}')"
   ]
  },
  {
   "cell_type": "markdown",
   "id": "04b1045d",
   "metadata": {},
   "source": [
    "A lot of features look skewed\n",
    "\n",
    "- density and pH look fairly normally distributed\n",
    "- Rest all are rightly skewed\n",
    "- Volatile acidity and citric acidity seem bimodal"
   ]
  },
  {
   "cell_type": "markdown",
   "id": "615de36d",
   "metadata": {},
   "source": [
    "#### Plotting boxplot to visualize outliers"
   ]
  },
  {
   "cell_type": "code",
   "execution_count": null,
   "id": "d0911a89",
   "metadata": {},
   "outputs": [],
   "source": [
    "plt.subplots(3,4,figsize=(25,18))\n",
    "for i,feature in enumerate(df.columns):\n",
    "    if i==len(df.columns)-1:\n",
    "        pass\n",
    "    else:\n",
    "        plt.subplot(3,4,i+1)\n",
    "        sns.boxplot(data=df, x=feature)\n",
    "        plt.title(feature)\n"
   ]
  },
  {
   "cell_type": "markdown",
   "id": "63270ec7",
   "metadata": {},
   "source": [
    "#### Observations-\n",
    "Almost all the features contain a lot of outliers"
   ]
  },
  {
   "cell_type": "markdown",
   "id": "c7dcf71f",
   "metadata": {},
   "source": [
    "Log transformation is one of the methods to reduce skewness (achieve normal distribution) and handle outliers.\n",
    "\n",
    "It is especially helpful for models assuming normal distribution like linear regression\n",
    "\n",
    "Trying to the transform the skewed featues of dataset here too (for logistic regression) to handle skewness and outliers"
   ]
  },
  {
   "cell_type": "code",
   "execution_count": null,
   "id": "feffe506",
   "metadata": {},
   "outputs": [],
   "source": [
    "transformed_df = np.log1p(df.drop(['quality', 'pH', 'density'], axis=1)) # Transformation makes sense only for numerical features.\n",
    "                                                                # Thus removing the categorical feature which happens to be the target variale and the only categorical variable"
   ]
  },
  {
   "cell_type": "code",
   "execution_count": null,
   "id": "47492740",
   "metadata": {},
   "outputs": [],
   "source": [
    "transformed_df = pd.concat([transformed_df,df[['pH', 'density','quality']]],axis=1)"
   ]
  },
  {
   "cell_type": "code",
   "execution_count": null,
   "id": "bd6abfa6",
   "metadata": {},
   "outputs": [],
   "source": [
    "transformed_df"
   ]
  },
  {
   "cell_type": "code",
   "execution_count": null,
   "id": "fb6d8543",
   "metadata": {},
   "outputs": [],
   "source": [
    "transformed_df.columns"
   ]
  },
  {
   "cell_type": "markdown",
   "id": "01b0d0a9",
   "metadata": {},
   "source": [
    "#### Plotting histograms and checking for skewness values for this transformed data\n"
   ]
  },
  {
   "cell_type": "code",
   "execution_count": null,
   "id": "6d61e5f6",
   "metadata": {},
   "outputs": [],
   "source": [
    "plt.subplots(3,4,figsize=(25,18))\n",
    "for i,feature in enumerate(transformed_df.columns):\n",
    "    plt.subplot(3,4,i+1)\n",
    "    sns.histplot(data=transformed_df, x=feature, kde=True)\n",
    "    plt.title(feature)\n",
    "    #print(i,feature)\n",
    "    print(f'skewness of feature \"{feature}\" is {transformed_df[feature].skew()}')\n"
   ]
  },
  {
   "cell_type": "markdown",
   "id": "740b0478",
   "metadata": {},
   "source": [
    "#### Observations-\n",
    "- The distribution of the features much more normal than the original data\n",
    "- This can also be verified by the  skewness value of features which has reduced significantly. For example-\n",
    "    - skewness of feature \"residual sugar\" has reduced from 4.548153403940447 to 1.7652376788280852\n",
    "    - skewness of feature \"chlorides\" has reduced from 5.502487294623722 to 1.8876423282330907"
   ]
  },
  {
   "cell_type": "markdown",
   "id": "1bb794a4",
   "metadata": {},
   "source": [
    "#### Plotting box plot for the transformed data-"
   ]
  },
  {
   "cell_type": "code",
   "execution_count": null,
   "id": "4b7489c5",
   "metadata": {},
   "outputs": [],
   "source": [
    "plt.subplots(3,4,figsize=(25,18))\n",
    "for i,feature in enumerate(transformed_df.columns):\n",
    "    plt.subplot(3,4,i+1)\n",
    "    sns.boxplot(data=transformed_df, x=feature)\n",
    "    plt.title(feature)"
   ]
  },
  {
   "cell_type": "markdown",
   "id": "e2855b3c",
   "metadata": {},
   "source": [
    "#### Observations-\n",
    "- The number of outliers have reduced too(few features still contain a decent amount though)"
   ]
  },
  {
   "cell_type": "markdown",
   "id": "a5188d22",
   "metadata": {},
   "source": [
    "### Bivariate Analysis\n"
   ]
  },
  {
   "cell_type": "markdown",
   "id": "74b7970b",
   "metadata": {},
   "source": [
    "Checking for collinearity"
   ]
  },
  {
   "cell_type": "markdown",
   "id": "5a2affcd",
   "metadata": {},
   "source": [
    "- Winemakers use pH as a way to measure ripeness in relation to acidity.\n",
    "- TA, or \"total acidity,\" is another way of looking at similar things, this time measuring acidity by volume. (The total acidity (TA) of a wine is measured assuming all the acid is tartaric)\n",
    "- ##### How do they relate? The higher the pH, the lower the acidity.  Thus there are chances of existence of a negative correlation between \"pH\" and \"fixed acidity\" features\n",
    "- Total sulphite is the sum of free sulphites and bound sulphites.\n",
    "- ##### Thus chances of feature \"total sulfur dioxide\" and feature \"free sulfur dioxide\" being correlated are also high\n"
   ]
  },
  {
   "cell_type": "code",
   "execution_count": null,
   "id": "fd2c920f",
   "metadata": {},
   "outputs": [],
   "source": [
    "plt.subplots(1,2,figsize=(25,6))\n",
    "plt.subplot(121)\n",
    "plt.title('pH v/s fixed acidity')\n",
    "sns.scatterplot(data=df, x='fixed acidity', y='pH')\n",
    "sns.regplot(data=df, x='fixed acidity', y='pH',color='orange',line_kws={'color':'green'})\n",
    "plt.subplot(122)\n",
    "plt.title('total sulfur dioxide v/s free sulfur dioxide')\n",
    "#sns.scatterplot(data=df, x='total sulfur dioxide', y='free sulfur dioxide')\n",
    "sns.regplot(data=df, x='total sulfur dioxide', y='free sulfur dioxide',color='orange',line_kws={'color':'green'})\n",
    "plt.show()"
   ]
  },
  {
   "cell_type": "markdown",
   "id": "4b5a3392",
   "metadata": {},
   "source": [
    "#### Observations-\n",
    "- As can be seen by the graph too, a linear relation exists between \"pH and fixed acidity\" and \"free sulpfur oxide\" and \"total sulfur oxide\""
   ]
  },
  {
   "cell_type": "markdown",
   "id": "bad43b5d",
   "metadata": {},
   "source": [
    "Checking for collinearity to verify"
   ]
  },
  {
   "cell_type": "code",
   "execution_count": null,
   "id": "5d6dd51d",
   "metadata": {},
   "outputs": [],
   "source": [
    "#sns.heatmap(df.corr(), annot=True,cmap='viridis')\n",
    "df.corr()"
   ]
  },
  {
   "cell_type": "code",
   "execution_count": null,
   "id": "f6049a0f",
   "metadata": {},
   "outputs": [],
   "source": [
    "transformed_df.corr()"
   ]
  },
  {
   "cell_type": "markdown",
   "id": "71f9ac6e",
   "metadata": {},
   "source": [
    "#### Observations\n",
    "- \"fixed acidity\" has moderate correlation with a lot of features- \"citric acid\", \"density\" and \"pH\"\n",
    "- \"free sulfur dioxide\" and \"total sulfur oxide\" also have a moderate correaltion\n",
    "- These correaltions become stronger for the transformed data(except between \"citric acid\" and fixed \"acidity\")\n",
    "- We can check for VIF values too (after scaling) "
   ]
  },
  {
   "cell_type": "markdown",
   "id": "6aa765a0",
   "metadata": {},
   "source": [
    "Dropping the features \"fixed acidity\" and \" free sulfur dioxide\" owing to multicollinearity"
   ]
  },
  {
   "cell_type": "code",
   "execution_count": null,
   "id": "e197da0b",
   "metadata": {},
   "outputs": [],
   "source": [
    "df.drop(['fixed acidity', 'free sulfur dioxide'],axis=1,inplace=True)"
   ]
  },
  {
   "cell_type": "code",
   "execution_count": null,
   "id": "cf82c0d6",
   "metadata": {},
   "outputs": [],
   "source": [
    "df"
   ]
  },
  {
   "cell_type": "code",
   "execution_count": null,
   "id": "1df4f4b1",
   "metadata": {},
   "outputs": [],
   "source": [
    "transformed_df.drop(['fixed acidity', 'free sulfur dioxide'],axis=1,inplace=True)\n",
    "transformed_df"
   ]
  },
  {
   "cell_type": "markdown",
   "id": "68dd8820",
   "metadata": {},
   "source": [
    "Plotting graph features and target variable"
   ]
  },
  {
   "cell_type": "code",
   "execution_count": null,
   "id": "d9ddb880",
   "metadata": {},
   "outputs": [],
   "source": [
    "plt.subplots(3,4,figsize=(25,18))\n",
    "for i,feature in enumerate(df.columns):\n",
    "    plt.subplot(3,4,i+1)\n",
    "    sns.barplot(data=df, x='quality',y=feature)\n",
    "    plt.title(feature)\n",
    "    #print(i,feature)\n"
   ]
  },
  {
   "cell_type": "markdown",
   "id": "b29eedfb",
   "metadata": {},
   "source": [
    "#### Observations\n",
    "- There are only 6 categories present in the target variable given dataset. All 6 of them have equal amount of density value and almost equal pH value"
   ]
  },
  {
   "cell_type": "code",
   "execution_count": null,
   "id": "ca8f6b77",
   "metadata": {},
   "outputs": [],
   "source": [
    "df.quality.unique()"
   ]
  },
  {
   "cell_type": "markdown",
   "id": "377d8726",
   "metadata": {},
   "source": [
    "- There are a total of 10 categories in the target variable. But the given dataset contains only 6 of them\n",
    "- Random Forest is one model which may be able to predict the missing categories"
   ]
  },
  {
   "cell_type": "markdown",
   "id": "43fbe952",
   "metadata": {},
   "source": [
    "#### Conclusions\n",
    "- The given dataset contains a fair number of outliers which have been reduced via log transformation.\n",
    "- While wine quality accepts values from 1-10, the dataset contains only 6 such values(3-8).\n",
    "- \"fixed acidity\" has moderate correlation with a lot of features- \"citric acid\", \"density\" and \"pH\"\n",
    "- \"free sulfur dioxide\" and \"total sulfur oxide\" also have a moderate correaltion\n",
    "- These correaltions become stronger for the transformed data(except between \"citric acid\" and fixed \"acidity\")\n",
    "- The features \"fixed acidity\" and \" free sulfur dioxide\" will be dropped owing to multicollinearity "
   ]
  },
  {
   "cell_type": "markdown",
   "id": "5c59bbe4",
   "metadata": {},
   "source": []
  }
 ],
 "metadata": {
  "kernelspec": {
   "display_name": "Python (venv)",
   "language": "python",
   "name": "venv"
  },
  "language_info": {
   "codemirror_mode": {
    "name": "ipython",
    "version": 3
   },
   "file_extension": ".py",
   "mimetype": "text/x-python",
   "name": "python",
   "nbconvert_exporter": "python",
   "pygments_lexer": "ipython3",
   "version": "3.13.5"
  }
 },
 "nbformat": 4,
 "nbformat_minor": 5
}
